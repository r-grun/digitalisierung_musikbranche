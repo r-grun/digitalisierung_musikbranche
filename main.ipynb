{
 "cells": [
  {
   "cell_type": "code",
   "execution_count": 24,
   "id": "d49a6b1e-b049-4ef8-8003-ca6999a5595f",
   "metadata": {},
   "outputs": [],
   "source": [
    "import hdf5_getters\n",
    "import os\n",
    "import glob\n",
    "import matplotlib.pyplot as plt"
   ]
  },
  {
   "cell_type": "code",
   "execution_count": 25,
   "id": "8ea24406-7d53-4716-bb68-818135883b37",
   "metadata": {},
   "outputs": [],
   "source": [
    "path = 'test_dataset.h5'"
   ]
  },
  {
   "cell_type": "code",
   "execution_count": 26,
   "id": "07848b22-4350-4ec0-a498-39022fd6abab",
   "metadata": {},
   "outputs": [],
   "source": [
    "h5 = hdf5_getters.open_h5_file_read(path)\n",
    "\n",
    "duration = hdf5_getters.get_duration(h5)\n",
    "\n",
    "h5.close()"
   ]
  },
  {
   "cell_type": "code",
   "execution_count": 27,
   "id": "954b161f-41d0-4ba4-a551-352a27d026bd",
   "metadata": {},
   "outputs": [
    {
     "name": "stdout",
     "output_type": "stream",
     "text": [
      "3:31\n"
     ]
    }
   ],
   "source": [
    "print(f\"{int(duration // 60)}:{int(duration%60)}\")"
   ]
  },
  {
   "cell_type": "code",
   "execution_count": 31,
   "id": "c5be2573-3ad3-4c83-aa8f-a0da15b0f5d1",
   "metadata": {},
   "outputs": [],
   "source": [
    "def get_loudness(basedir,ext='.h5') :\n",
    "    titles = []\n",
    "    for root, dirs, files in os.walk(basedir):\n",
    "        files = glob.glob(os.path.join(root,'*'+ext))\n",
    "        for f in files:\n",
    "            try:\n",
    "                h5 = hdf5_getters.open_h5_file_read(f)\n",
    "                titles.append( hdf5_getters.get_loudness(h5) )\n",
    "                h5.close()\n",
    "            except:\n",
    "                pass\n",
    "    return titles"
   ]
  },
  {
   "cell_type": "code",
   "execution_count": 32,
   "id": "9fb60a4a-fd08-434d-83ed-f9504d4def6f",
   "metadata": {},
   "outputs": [],
   "source": [
    "loudness = get_loudness(\"MillionSongSubset\")"
   ]
  },
  {
   "cell_type": "code",
   "execution_count": 37,
   "id": "2be6bdca-f826-47d2-bc32-cffe72760749",
   "metadata": {},
   "outputs": [
    {
     "data": {
      "text/plain": [
       "7052"
      ]
     },
     "execution_count": 37,
     "metadata": {},
     "output_type": "execute_result"
    }
   ],
   "source": [
    "len(loudness)"
   ]
  },
  {
   "cell_type": "code",
   "execution_count": 33,
   "id": "eb5b8728-1844-45d0-ab34-63208f4f81dd",
   "metadata": {},
   "outputs": [
    {
     "data": {
      "image/png": "[encoded data removed]",
      "text/plain": [
       "<Figure size 432x288 with 1 Axes>"
      ]
     },
     "metadata": {
      "needs_background": "light"
     },
     "output_type": "display_data"
    }
   ],
   "source": [
    "# Create a figure instance\n",
    "fig = plt.figure()\n",
    "\n",
    "# Create an axes instance\n",
    "ax = fig.add_axes([0,0,1,1])\n",
    "\n",
    "# Create the boxplot\n",
    "bp = ax.violinplot(loudness)\n",
    "plt.show()"
   ]
  },
  {
   "cell_type": "code",
   "execution_count": 35,
   "id": "00a96538-4417-49f7-9060-476cc0538dd3",
   "metadata": {},
   "outputs": [],
   "source": [
    "def get_duration(basedir,ext='.h5') :\n",
    "    titles = []\n",
    "    for root, dirs, files in os.walk(basedir):\n",
    "        files = glob.glob(os.path.join(root,'*'+ext))\n",
    "        for f in files:\n",
    "            try:\n",
    "                h5 = hdf5_getters.open_h5_file_read(f)\n",
    "                titles.append( hdf5_getters.get_duration(h5) )\n",
    "                h5.close()\n",
    "            except:\n",
    "                pass\n",
    "    return titles"
   ]
  },
  {
   "cell_type": "code",
   "execution_count": 36,
   "id": "a2d49846-94ac-4433-a4e9-b98ffe87aa0c",
   "metadata": {},
   "outputs": [],
   "source": [
    "duration = get_duration(\"MillionSongSubset\")"
   ]
  },
  {
   "cell_type": "code",
   "execution_count": 38,
   "id": "5e05a01b-c4dd-4c51-b0b0-f84fa4ade703",
   "metadata": {},
   "outputs": [
    {
     "data": {
      "text/plain": [
       "7052"
      ]
     },
     "execution_count": 38,
     "metadata": {},
     "output_type": "execute_result"
    }
   ],
   "source": [
    "len(duration)"
   ]
  },
  {
   "cell_type": "code",
   "execution_count": 39,
   "id": "909cdf4a-a2a0-4cf4-82cc-af1986002dc1",
   "metadata": {},
   "outputs": [
    {
     "data": {
      "image/png": "[encoded data removed]",
      "text/plain": [
       "<Figure size 432x288 with 1 Axes>"
      ]
     },
     "metadata": {
      "needs_background": "light"
     },
     "output_type": "display_data"
    }
   ],
   "source": [
    "# Create a figure instance\n",
    "fig = plt.figure()\n",
    "\n",
    "# Create an axes instance\n",
    "ax = fig.add_axes([0,0,1,1])\n",
    "\n",
    "# Create the boxplot\n",
    "bp = ax.violinplot(duration)\n",
    "plt.show()"
   ]
  },
  {
   "cell_type": "code",
   "execution_count": 40,
   "id": "a3be7412-0d04-4fe7-8bc0-8e861f71416e",
   "metadata": {},
   "outputs": [],
   "source": [
    "def get_year(basedir,ext='.h5') :\n",
    "    titles = []\n",
    "    for root, dirs, files in os.walk(basedir):\n",
    "        files = glob.glob(os.path.join(root,'*'+ext))\n",
    "        for f in files:\n",
    "            try:\n",
    "                h5 = hdf5_getters.open_h5_file_read(f)\n",
    "                titles.append( hdf5_getters.get_year(h5) )\n",
    "                h5.close()\n",
    "            except:\n",
    "                pass\n",
    "    return titles"
   ]
  },
  {
   "cell_type": "code",
   "execution_count": 41,
   "id": "77e987c1-6351-4723-b9ab-ea1a3a985907",
   "metadata": {},
   "outputs": [],
   "source": [
    "years = get_year(\"MillionSongSubset\")"
   ]
  },
  {
   "cell_type": "code",
   "execution_count": 46,
   "id": "ef7a012e-bee5-4384-a11a-e9df3b6dce1e",
   "metadata": {},
   "outputs": [],
   "source": [
    "years = list(filter(lambda x: x > 0, years))"
   ]
  },
  {
   "cell_type": "code",
   "execution_count": 54,
   "id": "3cfe4d86-0223-4a68-8985-1974073352e6",
   "metadata": {},
   "outputs": [
    {
     "data": {
      "image/png": "[encoded data removed]",
      "text/plain": [
       "<Figure size 432x288 with 1 Axes>"
      ]
     },
     "metadata": {
      "needs_background": "light"
     },
     "output_type": "display_data"
    }
   ],
   "source": [
    "# Create a figure instance\n",
    "fig = plt.figure()\n",
    "\n",
    "# Create an axes instance\n",
    "ax = fig.add_axes([0,0,1,1])\n",
    "\n",
    "# Create the boxplot\n",
    "bp = ax.hist(years, bins=max(years)-min(years))\n",
    "plt.show()"
   ]
  },
  {
   "cell_type": "code",
   "execution_count": 48,
   "id": "5835bf64-9594-49c4-9eb1-fe17415a2afd",
   "metadata": {},
   "outputs": [
    {
     "data": {
      "text/plain": [
       "1926"
      ]
     },
     "execution_count": 48,
     "metadata": {},
     "output_type": "execute_result"
    }
   ],
   "source": [
    "min(years)"
   ]
  },
  {
   "cell_type": "code",
   "execution_count": 49,
   "id": "cec1659e-b5e7-4b7b-ab7e-9295753b2b7c",
   "metadata": {},
   "outputs": [
    {
     "data": {
      "text/plain": [
       "2010"
      ]
     },
     "execution_count": 49,
     "metadata": {},
     "output_type": "execute_result"
    }
   ],
   "source": [
    "max(years)"
   ]
  },
  {
   "cell_type": "code",
   "execution_count": 50,
   "id": "52654820-4d5d-4982-a6b7-20d3e1c31d41",
   "metadata": {},
   "outputs": [
    {
     "data": {
      "text/plain": [
       "3289"
      ]
     },
     "execution_count": 50,
     "metadata": {},
     "output_type": "execute_result"
    }
   ],
   "source": [
    "len(years)"
   ]
  },
  {
   "cell_type": "code",
   "execution_count": null,
   "id": "ea7fc934-f3a1-486b-8f36-e8d85e55d013",
   "metadata": {},
   "outputs": [],
   "source": []
  }
 ],
 "metadata": {
  "kernelspec": {
   "display_name": "Python 3 (ipykernel)",
   "language": "python",
   "name": "python3"
  },
  "language_info": {
   "codemirror_mode": {
    "name": "ipython",
    "version": 3
   },
   "file_extension": ".py",
   "mimetype": "text/x-python",
   "name": "python",
   "nbconvert_exporter": "python",
   "pygments_lexer": "ipython3",
   "version": "3.9.10"
  }
 },
 "nbformat": 4,
 "nbformat_minor": 5
}
