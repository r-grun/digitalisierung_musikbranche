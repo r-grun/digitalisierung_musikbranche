{
 "cells": [
  {
   "cell_type": "code",
   "execution_count": 1,
   "id": "d49a6b1e-b049-4ef8-8003-ca6999a5595f",
   "metadata": {},
   "outputs": [],
   "source": [
    "import hdf5_getters\n",
    "import os\n",
    "import glob\n",
    "import matplotlib.pyplot as plt\n",
    "import pandas as pd"
   ]
  },
  {
   "cell_type": "code",
   "execution_count": 2,
   "id": "8ea24406-7d53-4716-bb68-818135883b37",
   "metadata": {},
   "outputs": [],
   "source": [
    "path = 'test_dataset.h5'"
   ]
  },
  {
   "cell_type": "code",
   "execution_count": 3,
   "id": "07848b22-4350-4ec0-a498-39022fd6abab",
   "metadata": {},
   "outputs": [],
   "source": [
    "h5 = hdf5_getters.open_h5_file_read(path)\n",
    "\n",
    "tempo = hdf5_getters.get_tempo(h5)\n",
    "\n",
    "h5.close()"
   ]
  },
  {
   "cell_type": "code",
   "execution_count": 4,
   "id": "ea7fc934-f3a1-486b-8f36-e8d85e55d013",
   "metadata": {},
   "outputs": [],
   "source": [
    "def get_stat_filtered_by_years(basedir, stat,ext='.h5') :\n",
    "    titles = {\"tape\": [], \"vinyl\": [], \"kassette\": [], \"cd\": [], \"mp3\": []}\n",
    "    for root, dirs, files in os.walk(basedir):\n",
    "        files = glob.glob(os.path.join(root,'*'+ext))\n",
    "        for f in files:\n",
    "            try:\n",
    "                h5 = hdf5_getters.open_h5_file_read(f)\n",
    "                \n",
    "                year = hdf5_getters.get_year(h5)\n",
    "                \n",
    "                if year < 1926:\n",
    "                    continue\n",
    "                elif year < 1947:\n",
    "                    titles[\"tape\"].append(stat(h5))\n",
    "                elif year < 1967:\n",
    "                    titles[\"vinyl\"].append(stat(h5))\n",
    "                elif year < 1981:\n",
    "                    titles[\"kassette\"].append(stat(h5))\n",
    "                elif year < 1989:\n",
    "                    titles[\"cd\"].append(stat(h5))\n",
    "                else: \n",
    "                    titles[\"mp3\"].append(stat(h5))\n",
    "                \n",
    "                h5.close()\n",
    "                \n",
    "            except:\n",
    "                pass\n",
    "    return titles"
   ]
  },
  {
   "cell_type": "code",
   "execution_count": 5,
   "id": "83efdc04-d627-4a8a-8da6-ef4209d0546c",
   "metadata": {
    "tags": []
   },
   "outputs": [],
   "source": [
    "tempo = get_stat_filtered_by_years(\"MillionSongSubset\", hdf5_getters.get_tempo)"
   ]
  },
  {
   "cell_type": "code",
   "execution_count": 6,
   "id": "29ca2d2a-d273-4c06-86ac-81a751ed77e5",
   "metadata": {},
   "outputs": [],
   "source": [
    "def showViolinPlot(data):\n",
    "    # Create a figure instance\n",
    "    fig = plt.figure()\n",
    "\n",
    "    # Create an axes instance\n",
    "    ax = fig.add_axes([0,0,1,1])\n",
    "\n",
    "    # Create the boxplot\n",
    "    bpm = ax.violinplot(data, showmeans=True, showmedians=True)\n",
    "    plt.show()"
   ]
  },
  {
   "cell_type": "code",
   "execution_count": 7,
   "id": "c98faba1-b630-4c78-89ca-dcb5fe082f13",
   "metadata": {},
   "outputs": [],
   "source": [
    "def showHistogram(data):\n",
    "    # Create a figure instance\n",
    "    fig = plt.figure()\n",
    "\n",
    "    # Create an axes instance\n",
    "    ax = fig.add_axes([0,0,1,1])\n",
    "\n",
    "    # Create the boxplot\n",
    "    bpm = ax.hist(data, bins=int(max(data)-min(data)))\n",
    "    plt.show()"
   ]
  },
  {
   "cell_type": "markdown",
   "id": "9c021bf4-1850-4dc4-92ba-8d73b4e710ab",
   "metadata": {},
   "source": [
    "# General"
   ]
  },
  {
   "cell_type": "code",
   "execution_count": 41,
   "id": "f834eca5-7e4f-41ec-aae8-11a7e2441734",
   "metadata": {},
   "outputs": [
    {
     "name": "stdout",
     "output_type": "stream",
     "text": [
      "30.827 1473 mp3\n",
      "258.677 201 mp3\n"
     ]
    }
   ],
   "source": [
    "# Min and Max BPM songs\n",
    "\n",
    "min_bpm = 250\n",
    "min_pos = 0\n",
    "min_list = ''\n",
    "max_bpm = 100\n",
    "max_pos = 0\n",
    "max_list = ''\n",
    "\n",
    "for coll in tempo:\n",
    "    bpm_list = list(filter(lambda x: x > 0, tempo[coll]))\n",
    "    \n",
    "    if (min(bpm_list) < min_bpm):\n",
    "        min_pos = tempo[coll].index(min(bpm_list))\n",
    "        min_coll = coll\n",
    "        min_bpm = tempo[coll][min_pos]\n",
    "    \n",
    "    if (max(bpm_list) > max_bpm):\n",
    "        max_pos = tempo[coll].index(max(bpm_list))\n",
    "        max_coll = coll\n",
    "        max_bpm = tempo[coll][max_pos]\n",
    "    \n",
    "    \n",
    "print(min_bpm, min_pos, min_coll)\n",
    "print(max_bpm, max_pos, max_coll)"
   ]
  },
  {
   "cell_type": "markdown",
   "id": "1b1ed828-9aaf-41d8-8e9a-b89970d2fdae",
   "metadata": {},
   "source": [
    "# Tape"
   ]
  },
  {
   "cell_type": "code",
   "execution_count": 8,
   "id": "a32ff468-291a-4594-8183-1eeac9ec26f5",
   "metadata": {},
   "outputs": [
    {
     "data": {
      "text/html": [
       "<div>\n",
       "<style scoped>\n",
       "    .dataframe tbody tr th:only-of-type {\n",
       "        vertical-align: middle;\n",
       "    }\n",
       "\n",
       "    .dataframe tbody tr th {\n",
       "        vertical-align: top;\n",
       "    }\n",
       "\n",
       "    .dataframe thead th {\n",
       "        text-align: right;\n",
       "    }\n",
       "</style>\n",
       "<table border=\"1\" class=\"dataframe\">\n",
       "  <thead>\n",
       "    <tr style=\"text-align: right;\">\n",
       "      <th></th>\n",
       "      <th>0</th>\n",
       "    </tr>\n",
       "  </thead>\n",
       "  <tbody>\n",
       "    <tr>\n",
       "      <th>count</th>\n",
       "      <td>12.000000</td>\n",
       "    </tr>\n",
       "    <tr>\n",
       "      <th>mean</th>\n",
       "      <td>101.429167</td>\n",
       "    </tr>\n",
       "    <tr>\n",
       "      <th>std</th>\n",
       "      <td>28.320264</td>\n",
       "    </tr>\n",
       "    <tr>\n",
       "      <th>min</th>\n",
       "      <td>38.443000</td>\n",
       "    </tr>\n",
       "    <tr>\n",
       "      <th>25%</th>\n",
       "      <td>96.737000</td>\n",
       "    </tr>\n",
       "    <tr>\n",
       "      <th>50%</th>\n",
       "      <td>100.562000</td>\n",
       "    </tr>\n",
       "    <tr>\n",
       "      <th>75%</th>\n",
       "      <td>107.280000</td>\n",
       "    </tr>\n",
       "    <tr>\n",
       "      <th>max</th>\n",
       "      <td>158.767000</td>\n",
       "    </tr>\n",
       "  </tbody>\n",
       "</table>\n",
       "</div>"
      ],
      "text/plain": [
       "                0\n",
       "count   12.000000\n",
       "mean   101.429167\n",
       "std     28.320264\n",
       "min     38.443000\n",
       "25%     96.737000\n",
       "50%    100.562000\n",
       "75%    107.280000\n",
       "max    158.767000"
      ]
     },
     "execution_count": 8,
     "metadata": {},
     "output_type": "execute_result"
    }
   ],
   "source": [
    "pd.DataFrame(tempo[\"tape\"]).describe()"
   ]
  },
  {
   "cell_type": "code",
   "execution_count": 9,
   "id": "4340fc04-c398-425f-a890-584216798f7a",
   "metadata": {
    "tags": []
   },
   "outputs": [
    {
     "data": {
      "image/png": "[encoded data removed]",
      "text/plain": [
       "<Figure size 432x288 with 1 Axes>"
      ]
     },
     "metadata": {
      "needs_background": "light"
     },
     "output_type": "display_data"
    }
   ],
   "source": [
    "showViolinPlot(tempo[\"tape\"])"
   ]
  },
  {
   "cell_type": "code",
   "execution_count": 10,
   "id": "2a075344-eb05-4321-87d2-096c003e53c6",
   "metadata": {},
   "outputs": [
    {
     "data": {
      "image/png": "[encoded data removed]",
      "text/plain": [
       "<Figure size 432x288 with 1 Axes>"
      ]
     },
     "metadata": {
      "needs_background": "light"
     },
     "output_type": "display_data"
    }
   ],
   "source": [
    "showHistogram(tempo[\"tape\"])"
   ]
  },
  {
   "cell_type": "code",
   "execution_count": 11,
   "id": "cd016d44-6691-4147-9c73-1a1bbfa18c44",
   "metadata": {},
   "outputs": [],
   "source": [
    "# Vinyl"
   ]
  },
  {
   "cell_type": "code",
   "execution_count": 12,
   "id": "a61c0810-9a28-4d09-9884-88e8d6487016",
   "metadata": {},
   "outputs": [
    {
     "data": {
      "text/html": [
       "<div>\n",
       "<style scoped>\n",
       "    .dataframe tbody tr th:only-of-type {\n",
       "        vertical-align: middle;\n",
       "    }\n",
       "\n",
       "    .dataframe tbody tr th {\n",
       "        vertical-align: top;\n",
       "    }\n",
       "\n",
       "    .dataframe thead th {\n",
       "        text-align: right;\n",
       "    }\n",
       "</style>\n",
       "<table border=\"1\" class=\"dataframe\">\n",
       "  <thead>\n",
       "    <tr style=\"text-align: right;\">\n",
       "      <th></th>\n",
       "      <th>0</th>\n",
       "    </tr>\n",
       "  </thead>\n",
       "  <tbody>\n",
       "    <tr>\n",
       "      <th>count</th>\n",
       "      <td>62.000000</td>\n",
       "    </tr>\n",
       "    <tr>\n",
       "      <th>mean</th>\n",
       "      <td>114.560226</td>\n",
       "    </tr>\n",
       "    <tr>\n",
       "      <th>std</th>\n",
       "      <td>30.954589</td>\n",
       "    </tr>\n",
       "    <tr>\n",
       "      <th>min</th>\n",
       "      <td>59.983000</td>\n",
       "    </tr>\n",
       "    <tr>\n",
       "      <th>25%</th>\n",
       "      <td>95.295250</td>\n",
       "    </tr>\n",
       "    <tr>\n",
       "      <th>50%</th>\n",
       "      <td>108.712000</td>\n",
       "    </tr>\n",
       "    <tr>\n",
       "      <th>75%</th>\n",
       "      <td>129.865250</td>\n",
       "    </tr>\n",
       "    <tr>\n",
       "      <th>max</th>\n",
       "      <td>196.303000</td>\n",
       "    </tr>\n",
       "  </tbody>\n",
       "</table>\n",
       "</div>"
      ],
      "text/plain": [
       "                0\n",
       "count   62.000000\n",
       "mean   114.560226\n",
       "std     30.954589\n",
       "min     59.983000\n",
       "25%     95.295250\n",
       "50%    108.712000\n",
       "75%    129.865250\n",
       "max    196.303000"
      ]
     },
     "execution_count": 12,
     "metadata": {},
     "output_type": "execute_result"
    }
   ],
   "source": [
    "pd.DataFrame(tempo[\"vinyl\"]).describe()"
   ]
  },
  {
   "cell_type": "code",
   "execution_count": 13,
   "id": "ef9884f6-870d-4f59-a65b-0db16a0e5c8d",
   "metadata": {
    "tags": []
   },
   "outputs": [
    {
     "data": {
      "image/png": "[encoded data removed]",
      "text/plain": [
       "<Figure size 432x288 with 1 Axes>"
      ]
     },
     "metadata": {
      "needs_background": "light"
     },
     "output_type": "display_data"
    }
   ],
   "source": [
    "showViolinPlot(tempo[\"vinyl\"])"
   ]
  },
  {
   "cell_type": "code",
   "execution_count": 14,
   "id": "0a97b1b9-3c80-456a-aeed-3eb1f7d65a47",
   "metadata": {},
   "outputs": [
    {
     "data": {
      "image/png": "[encoded data removed]",
      "text/plain": [
       "<Figure size 432x288 with 1 Axes>"
      ]
     },
     "metadata": {
      "needs_background": "light"
     },
     "output_type": "display_data"
    }
   ],
   "source": [
    "showHistogram(tempo[\"vinyl\"])"
   ]
  },
  {
   "cell_type": "code",
   "execution_count": 15,
   "id": "4a3e3eff-8b7e-4d0e-afdb-cece82141f9d",
   "metadata": {},
   "outputs": [],
   "source": [
    "# Kassette"
   ]
  },
  {
   "cell_type": "code",
   "execution_count": 16,
   "id": "56e2c71d-2a56-454c-b0f7-03605819e640",
   "metadata": {},
   "outputs": [
    {
     "data": {
      "text/html": [
       "<div>\n",
       "<style scoped>\n",
       "    .dataframe tbody tr th:only-of-type {\n",
       "        vertical-align: middle;\n",
       "    }\n",
       "\n",
       "    .dataframe tbody tr th {\n",
       "        vertical-align: top;\n",
       "    }\n",
       "\n",
       "    .dataframe thead th {\n",
       "        text-align: right;\n",
       "    }\n",
       "</style>\n",
       "<table border=\"1\" class=\"dataframe\">\n",
       "  <thead>\n",
       "    <tr style=\"text-align: right;\">\n",
       "      <th></th>\n",
       "      <th>0</th>\n",
       "    </tr>\n",
       "  </thead>\n",
       "  <tbody>\n",
       "    <tr>\n",
       "      <th>count</th>\n",
       "      <td>260.000000</td>\n",
       "    </tr>\n",
       "    <tr>\n",
       "      <th>mean</th>\n",
       "      <td>128.454600</td>\n",
       "    </tr>\n",
       "    <tr>\n",
       "      <th>std</th>\n",
       "      <td>33.731867</td>\n",
       "    </tr>\n",
       "    <tr>\n",
       "      <th>min</th>\n",
       "      <td>41.945000</td>\n",
       "    </tr>\n",
       "    <tr>\n",
       "      <th>25%</th>\n",
       "      <td>104.816250</td>\n",
       "    </tr>\n",
       "    <tr>\n",
       "      <th>50%</th>\n",
       "      <td>123.966000</td>\n",
       "    </tr>\n",
       "    <tr>\n",
       "      <th>75%</th>\n",
       "      <td>151.897000</td>\n",
       "    </tr>\n",
       "    <tr>\n",
       "      <th>max</th>\n",
       "      <td>237.466000</td>\n",
       "    </tr>\n",
       "  </tbody>\n",
       "</table>\n",
       "</div>"
      ],
      "text/plain": [
       "                0\n",
       "count  260.000000\n",
       "mean   128.454600\n",
       "std     33.731867\n",
       "min     41.945000\n",
       "25%    104.816250\n",
       "50%    123.966000\n",
       "75%    151.897000\n",
       "max    237.466000"
      ]
     },
     "execution_count": 16,
     "metadata": {},
     "output_type": "execute_result"
    }
   ],
   "source": [
    "pd.DataFrame(tempo[\"kassette\"]).describe()"
   ]
  },
  {
   "cell_type": "code",
   "execution_count": 17,
   "id": "d1b7e8f3-e3da-4267-9d4c-3515c01975e9",
   "metadata": {
    "tags": []
   },
   "outputs": [
    {
     "data": {
      "image/png": "[encoded data removed]",
      "text/plain": [
       "<Figure size 432x288 with 1 Axes>"
      ]
     },
     "metadata": {
      "needs_background": "light"
     },
     "output_type": "display_data"
    }
   ],
   "source": [
    "showViolinPlot(tempo[\"kassette\"])"
   ]
  },
  {
   "cell_type": "code",
   "execution_count": 18,
   "id": "bbb2801c-71fc-432b-ac7b-a5ccc69caa10",
   "metadata": {},
   "outputs": [
    {
     "data": {
      "image/png": "[encoded data removed]",
      "text/plain": [
       "<Figure size 432x288 with 1 Axes>"
      ]
     },
     "metadata": {
      "needs_background": "light"
     },
     "output_type": "display_data"
    }
   ],
   "source": [
    "showHistogram(tempo[\"kassette\"])"
   ]
  },
  {
   "cell_type": "code",
   "execution_count": 19,
   "id": "7554748d-f0cf-4d33-9d01-b8eb7d58c2f3",
   "metadata": {},
   "outputs": [],
   "source": [
    "# CD"
   ]
  },
  {
   "cell_type": "code",
   "execution_count": 20,
   "id": "6b44c8ab-a010-4dc6-90b7-5d3c897fab37",
   "metadata": {},
   "outputs": [
    {
     "data": {
      "text/html": [
       "<div>\n",
       "<style scoped>\n",
       "    .dataframe tbody tr th:only-of-type {\n",
       "        vertical-align: middle;\n",
       "    }\n",
       "\n",
       "    .dataframe tbody tr th {\n",
       "        vertical-align: top;\n",
       "    }\n",
       "\n",
       "    .dataframe thead th {\n",
       "        text-align: right;\n",
       "    }\n",
       "</style>\n",
       "<table border=\"1\" class=\"dataframe\">\n",
       "  <thead>\n",
       "    <tr style=\"text-align: right;\">\n",
       "      <th></th>\n",
       "      <th>0</th>\n",
       "    </tr>\n",
       "  </thead>\n",
       "  <tbody>\n",
       "    <tr>\n",
       "      <th>count</th>\n",
       "      <td>249.000000</td>\n",
       "    </tr>\n",
       "    <tr>\n",
       "      <th>mean</th>\n",
       "      <td>127.431952</td>\n",
       "    </tr>\n",
       "    <tr>\n",
       "      <th>std</th>\n",
       "      <td>34.838973</td>\n",
       "    </tr>\n",
       "    <tr>\n",
       "      <th>min</th>\n",
       "      <td>0.000000</td>\n",
       "    </tr>\n",
       "    <tr>\n",
       "      <th>25%</th>\n",
       "      <td>104.171000</td>\n",
       "    </tr>\n",
       "    <tr>\n",
       "      <th>50%</th>\n",
       "      <td>124.577000</td>\n",
       "    </tr>\n",
       "    <tr>\n",
       "      <th>75%</th>\n",
       "      <td>146.010000</td>\n",
       "    </tr>\n",
       "    <tr>\n",
       "      <th>max</th>\n",
       "      <td>235.337000</td>\n",
       "    </tr>\n",
       "  </tbody>\n",
       "</table>\n",
       "</div>"
      ],
      "text/plain": [
       "                0\n",
       "count  249.000000\n",
       "mean   127.431952\n",
       "std     34.838973\n",
       "min      0.000000\n",
       "25%    104.171000\n",
       "50%    124.577000\n",
       "75%    146.010000\n",
       "max    235.337000"
      ]
     },
     "execution_count": 20,
     "metadata": {},
     "output_type": "execute_result"
    }
   ],
   "source": [
    "pd.DataFrame(tempo[\"cd\"]).describe()"
   ]
  },
  {
   "cell_type": "code",
   "execution_count": 21,
   "id": "845eddcd-7489-431f-8753-f25ab46c7947",
   "metadata": {
    "tags": []
   },
   "outputs": [
    {
     "data": {
      "image/png": "[encoded data removed]",
      "text/plain": [
       "<Figure size 432x288 with 1 Axes>"
      ]
     },
     "metadata": {
      "needs_background": "light"
     },
     "output_type": "display_data"
    }
   ],
   "source": [
    "showViolinPlot(tempo[\"cd\"])"
   ]
  },
  {
   "cell_type": "code",
   "execution_count": 22,
   "id": "fc0c8591-fa1c-4226-b8a0-82bf4861ab40",
   "metadata": {},
   "outputs": [
    {
     "data": {
      "image/png": "[encoded data removed]",
      "text/plain": [
       "<Figure size 432x288 with 1 Axes>"
      ]
     },
     "metadata": {
      "needs_background": "light"
     },
     "output_type": "display_data"
    }
   ],
   "source": [
    "showHistogram(tempo[\"cd\"])"
   ]
  },
  {
   "cell_type": "code",
   "execution_count": 23,
   "id": "d61ea618-a4d7-4018-b4e1-c953f744ff65",
   "metadata": {},
   "outputs": [],
   "source": [
    "# MP3"
   ]
  },
  {
   "cell_type": "code",
   "execution_count": 24,
   "id": "c82ad349-e546-4d5f-8ebf-25541e708bdd",
   "metadata": {},
   "outputs": [
    {
     "data": {
      "text/html": [
       "<div>\n",
       "<style scoped>\n",
       "    .dataframe tbody tr th:only-of-type {\n",
       "        vertical-align: middle;\n",
       "    }\n",
       "\n",
       "    .dataframe tbody tr th {\n",
       "        vertical-align: top;\n",
       "    }\n",
       "\n",
       "    .dataframe thead th {\n",
       "        text-align: right;\n",
       "    }\n",
       "</style>\n",
       "<table border=\"1\" class=\"dataframe\">\n",
       "  <thead>\n",
       "    <tr style=\"text-align: right;\">\n",
       "      <th></th>\n",
       "      <th>0</th>\n",
       "    </tr>\n",
       "  </thead>\n",
       "  <tbody>\n",
       "    <tr>\n",
       "      <th>count</th>\n",
       "      <td>2706.000000</td>\n",
       "    </tr>\n",
       "    <tr>\n",
       "      <th>mean</th>\n",
       "      <td>125.616985</td>\n",
       "    </tr>\n",
       "    <tr>\n",
       "      <th>std</th>\n",
       "      <td>36.248534</td>\n",
       "    </tr>\n",
       "    <tr>\n",
       "      <th>min</th>\n",
       "      <td>0.000000</td>\n",
       "    </tr>\n",
       "    <tr>\n",
       "      <th>25%</th>\n",
       "      <td>97.888500</td>\n",
       "    </tr>\n",
       "    <tr>\n",
       "      <th>50%</th>\n",
       "      <td>122.228500</td>\n",
       "    </tr>\n",
       "    <tr>\n",
       "      <th>75%</th>\n",
       "      <td>147.817750</td>\n",
       "    </tr>\n",
       "    <tr>\n",
       "      <th>max</th>\n",
       "      <td>258.677000</td>\n",
       "    </tr>\n",
       "  </tbody>\n",
       "</table>\n",
       "</div>"
      ],
      "text/plain": [
       "                 0\n",
       "count  2706.000000\n",
       "mean    125.616985\n",
       "std      36.248534\n",
       "min       0.000000\n",
       "25%      97.888500\n",
       "50%     122.228500\n",
       "75%     147.817750\n",
       "max     258.677000"
      ]
     },
     "execution_count": 24,
     "metadata": {},
     "output_type": "execute_result"
    }
   ],
   "source": [
    "pd.DataFrame(tempo[\"mp3\"]).describe()"
   ]
  },
  {
   "cell_type": "code",
   "execution_count": 25,
   "id": "a8fa79ec-6ae3-40be-a19b-9042bb6e1f26",
   "metadata": {
    "tags": []
   },
   "outputs": [
    {
     "data": {
      "image/png": "[encoded data removed]",
      "text/plain": [
       "<Figure size 432x288 with 1 Axes>"
      ]
     },
     "metadata": {
      "needs_background": "light"
     },
     "output_type": "display_data"
    }
   ],
   "source": [
    "showViolinPlot(tempo[\"mp3\"])"
   ]
  },
  {
   "cell_type": "code",
   "execution_count": 26,
   "id": "d1cdda97-20b4-440e-94fc-a062711fe22f",
   "metadata": {},
   "outputs": [
    {
     "data": {
      "image/png": "[encoded data removed]",
      "text/plain": [
       "<Figure size 432x288 with 1 Axes>"
      ]
     },
     "metadata": {
      "needs_background": "light"
     },
     "output_type": "display_data"
    }
   ],
   "source": [
    "showHistogram(tempo[\"mp3\"])"
   ]
  }
 ],
 "metadata": {
  "kernelspec": {
   "display_name": "Python 3 (ipykernel)",
   "language": "python",
   "name": "python3"
  },
  "language_info": {
   "codemirror_mode": {
    "name": "ipython",
    "version": 3
   },
   "file_extension": ".py",
   "mimetype": "text/x-python",
   "name": "python",
   "nbconvert_exporter": "python",
   "pygments_lexer": "ipython3",
   "version": "3.9.10"
  }
 },
 "nbformat": 4,
 "nbformat_minor": 5
}
