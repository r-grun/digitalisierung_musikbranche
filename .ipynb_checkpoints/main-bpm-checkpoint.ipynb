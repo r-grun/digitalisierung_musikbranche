{
 "cells": [
  {
   "cell_type": "code",
   "execution_count": 1,
   "id": "d49a6b1e-b049-4ef8-8003-ca6999a5595f",
   "metadata": {},
   "outputs": [],
   "source": [
    "import hdf5_getters\n",
    "import os\n",
    "import glob\n",
    "import matplotlib.pyplot as plt\n",
    "import pandas as pd"
   ]
  },
  {
   "cell_type": "code",
   "execution_count": 2,
   "id": "8ea24406-7d53-4716-bb68-818135883b37",
   "metadata": {},
   "outputs": [],
   "source": [
    "path = 'test_dataset.h5'"
   ]
  },
  {
   "cell_type": "code",
   "execution_count": 3,
   "id": "07848b22-4350-4ec0-a498-39022fd6abab",
   "metadata": {},
   "outputs": [],
   "source": [
    "h5 = hdf5_getters.open_h5_file_read(path)\n",
    "\n",
    "tempo = hdf5_getters.get_tempo(h5)\n",
    "\n",
    "h5.close()"
   ]
  },
  {
   "cell_type": "code",
   "execution_count": 4,
   "id": "ea7fc934-f3a1-486b-8f36-e8d85e55d013",
   "metadata": {},
   "outputs": [],
   "source": [
    "def get_stat_filtered_by_years(basedir, stat,ext='.h5') :\n",
    "    titles = {\"tape\": [], \"vinyl\": [], \"kassette\": [], \"cd\": [], \"mp3\": []}\n",
    "    for root, dirs, files in os.walk(basedir):\n",
    "        files = glob.glob(os.path.join(root,'*'+ext))\n",
    "        for f in files:\n",
    "            try:\n",
    "                h5 = hdf5_getters.open_h5_file_read(f)\n",
    "                \n",
    "                year = hdf5_getters.get_year(h5)\n",
    "                \n",
    "                if year < 1926:\n",
    "                    continue\n",
    "                elif year < 1947:\n",
    "                    titles[\"tape\"].append(stat(h5))\n",
    "                elif year < 1967:\n",
    "                    titles[\"vinyl\"].append(stat(h5))\n",
    "                elif year < 1967:\n",
    "                    titles[\"kassette\"].append(stat(h5))\n",
    "                elif year < 1967:\n",
    "                    titles[\"cd\"].append(stat(h5))\n",
    "                else: \n",
    "                    titles[\"mp3\"].append(stat(h5))\n",
    "                \n",
    "                h5.close()\n",
    "                \n",
    "            except:\n",
    "                pass\n",
    "    return titles"
   ]
  },
  {
   "cell_type": "code",
   "execution_count": 5,
   "id": "83efdc04-d627-4a8a-8da6-ef4209d0546c",
   "metadata": {
    "tags": []
   },
   "outputs": [],
   "source": [
    "tempo = get_stat_filtered_by_years(\"MillionSongSubset\", hdf5_getters.get_tempo)"
   ]
  },
  {
   "cell_type": "code",
   "execution_count": 27,
   "id": "29ca2d2a-d273-4c06-86ac-81a751ed77e5",
   "metadata": {},
   "outputs": [],
   "source": [
    "def showViolinPlot(data):\n",
    "    # Create a figure instance\n",
    "    fig = plt.figure()\n",
    "\n",
    "    # Create an axes instance\n",
    "    ax = fig.add_axes([0,0,1,1])\n",
    "\n",
    "    # Create the boxplot\n",
    "    bpm = ax.violinplot(data, showmeans=True, showmedians=True)\n",
    "    plt.show()"
   ]
  },
  {
   "cell_type": "code",
   "execution_count": 7,
   "id": "c98faba1-b630-4c78-89ca-dcb5fe082f13",
   "metadata": {},
   "outputs": [],
   "source": [
    "def showHistogram(data):\n",
    "    # Create a figure instance\n",
    "    fig = plt.figure()\n",
    "\n",
    "    # Create an axes instance\n",
    "    ax = fig.add_axes([0,0,1,1])\n",
    "\n",
    "    # Create the boxplot\n",
    "    bpm = ax.hist(data, bins=int(max(data)-min(data)))\n",
    "    plt.show()"
   ]
  },
  {
   "cell_type": "markdown",
   "id": "1b1ed828-9aaf-41d8-8e9a-b89970d2fdae",
   "metadata": {},
   "source": [
    "# Tape"
   ]
  },
  {
   "cell_type": "code",
   "execution_count": 8,
   "id": "a32ff468-291a-4594-8183-1eeac9ec26f5",
   "metadata": {},
   "outputs": [
    {
     "data": {
      "text/html": [
       "<div>\n",
       "<style scoped>\n",
       "    .dataframe tbody tr th:only-of-type {\n",
       "        vertical-align: middle;\n",
       "    }\n",
       "\n",
       "    .dataframe tbody tr th {\n",
       "        vertical-align: top;\n",
       "    }\n",
       "\n",
       "    .dataframe thead th {\n",
       "        text-align: right;\n",
       "    }\n",
       "</style>\n",
       "<table border=\"1\" class=\"dataframe\">\n",
       "  <thead>\n",
       "    <tr style=\"text-align: right;\">\n",
       "      <th></th>\n",
       "      <th>0</th>\n",
       "    </tr>\n",
       "  </thead>\n",
       "  <tbody>\n",
       "    <tr>\n",
       "      <th>count</th>\n",
       "      <td>12.000000</td>\n",
       "    </tr>\n",
       "    <tr>\n",
       "      <th>mean</th>\n",
       "      <td>101.429167</td>\n",
       "    </tr>\n",
       "    <tr>\n",
       "      <th>std</th>\n",
       "      <td>28.320264</td>\n",
       "    </tr>\n",
       "    <tr>\n",
       "      <th>min</th>\n",
       "      <td>38.443000</td>\n",
       "    </tr>\n",
       "    <tr>\n",
       "      <th>25%</th>\n",
       "      <td>96.737000</td>\n",
       "    </tr>\n",
       "    <tr>\n",
       "      <th>50%</th>\n",
       "      <td>100.562000</td>\n",
       "    </tr>\n",
       "    <tr>\n",
       "      <th>75%</th>\n",
       "      <td>107.280000</td>\n",
       "    </tr>\n",
       "    <tr>\n",
       "      <th>max</th>\n",
       "      <td>158.767000</td>\n",
       "    </tr>\n",
       "  </tbody>\n",
       "</table>\n",
       "</div>"
      ],
      "text/plain": [
       "                0\n",
       "count   12.000000\n",
       "mean   101.429167\n",
       "std     28.320264\n",
       "min     38.443000\n",
       "25%     96.737000\n",
       "50%    100.562000\n",
       "75%    107.280000\n",
       "max    158.767000"
      ]
     },
     "execution_count": 8,
     "metadata": {},
     "output_type": "execute_result"
    }
   ],
   "source": [
    "pd.DataFrame(tempo[\"tape\"]).describe()"
   ]
  },
  {
   "cell_type": "code",
   "execution_count": 28,
   "id": "4340fc04-c398-425f-a890-584216798f7a",
   "metadata": {
    "tags": []
   },
   "outputs": [
    {
     "data": {
      "image/png": "[encoded data removed]",
      "text/plain": [
       "<Figure size 432x288 with 1 Axes>"
      ]
     },
     "metadata": {
      "needs_background": "light"
     },
     "output_type": "display_data"
    }
   ],
   "source": [
    "showViolinPlot(tempo[\"tape\"])"
   ]
  },
  {
   "cell_type": "code",
   "execution_count": 10,
   "id": "2a075344-eb05-4321-87d2-096c003e53c6",
   "metadata": {},
   "outputs": [
    {
     "data": {
      "image/png": "[encoded data removed]",
      "text/plain": [
       "<Figure size 432x288 with 1 Axes>"
      ]
     },
     "metadata": {
      "needs_background": "light"
     },
     "output_type": "display_data"
    }
   ],
   "source": [
    "showHistogram(tempo[\"tape\"])"
   ]
  },
  {
   "cell_type": "code",
   "execution_count": 11,
   "id": "cd016d44-6691-4147-9c73-1a1bbfa18c44",
   "metadata": {},
   "outputs": [],
   "source": [
    "# Vinyl"
   ]
  },
  {
   "cell_type": "code",
   "execution_count": 12,
   "id": "a61c0810-9a28-4d09-9884-88e8d6487016",
   "metadata": {},
   "outputs": [
    {
     "data": {
      "text/html": [
       "<div>\n",
       "<style scoped>\n",
       "    .dataframe tbody tr th:only-of-type {\n",
       "        vertical-align: middle;\n",
       "    }\n",
       "\n",
       "    .dataframe tbody tr th {\n",
       "        vertical-align: top;\n",
       "    }\n",
       "\n",
       "    .dataframe thead th {\n",
       "        text-align: right;\n",
       "    }\n",
       "</style>\n",
       "<table border=\"1\" class=\"dataframe\">\n",
       "  <thead>\n",
       "    <tr style=\"text-align: right;\">\n",
       "      <th></th>\n",
       "      <th>0</th>\n",
       "    </tr>\n",
       "  </thead>\n",
       "  <tbody>\n",
       "    <tr>\n",
       "      <th>count</th>\n",
       "      <td>62.000000</td>\n",
       "    </tr>\n",
       "    <tr>\n",
       "      <th>mean</th>\n",
       "      <td>114.560226</td>\n",
       "    </tr>\n",
       "    <tr>\n",
       "      <th>std</th>\n",
       "      <td>30.954589</td>\n",
       "    </tr>\n",
       "    <tr>\n",
       "      <th>min</th>\n",
       "      <td>59.983000</td>\n",
       "    </tr>\n",
       "    <tr>\n",
       "      <th>25%</th>\n",
       "      <td>95.295250</td>\n",
       "    </tr>\n",
       "    <tr>\n",
       "      <th>50%</th>\n",
       "      <td>108.712000</td>\n",
       "    </tr>\n",
       "    <tr>\n",
       "      <th>75%</th>\n",
       "      <td>129.865250</td>\n",
       "    </tr>\n",
       "    <tr>\n",
       "      <th>max</th>\n",
       "      <td>196.303000</td>\n",
       "    </tr>\n",
       "  </tbody>\n",
       "</table>\n",
       "</div>"
      ],
      "text/plain": [
       "                0\n",
       "count   62.000000\n",
       "mean   114.560226\n",
       "std     30.954589\n",
       "min     59.983000\n",
       "25%     95.295250\n",
       "50%    108.712000\n",
       "75%    129.865250\n",
       "max    196.303000"
      ]
     },
     "execution_count": 12,
     "metadata": {},
     "output_type": "execute_result"
    }
   ],
   "source": [
    "pd.DataFrame(tempo[\"vinyl\"]).describe()"
   ]
  },
  {
   "cell_type": "code",
   "execution_count": 29,
   "id": "ef9884f6-870d-4f59-a65b-0db16a0e5c8d",
   "metadata": {
    "tags": []
   },
   "outputs": [
    {
     "data": {
      "image/png": "[encoded data removed]",
      "text/plain": [
       "<Figure size 432x288 with 1 Axes>"
      ]
     },
     "metadata": {
      "needs_background": "light"
     },
     "output_type": "display_data"
    }
   ],
   "source": [
    "showViolinPlot(tempo[\"vinyl\"])"
   ]
  },
  {
   "cell_type": "code",
   "execution_count": 14,
   "id": "0a97b1b9-3c80-456a-aeed-3eb1f7d65a47",
   "metadata": {},
   "outputs": [
    {
     "data": {
      "image/png": "[encoded data removed]",
      "text/plain": [
       "<Figure size 432x288 with 1 Axes>"
      ]
     },
     "metadata": {
      "needs_background": "light"
     },
     "output_type": "display_data"
    }
   ],
   "source": [
    "showHistogram(tempo[\"vinyl\"])"
   ]
  },
  {
   "cell_type": "code",
   "execution_count": 15,
   "id": "4a3e3eff-8b7e-4d0e-afdb-cece82141f9d",
   "metadata": {},
   "outputs": [],
   "source": [
    "# Kassette"
   ]
  },
  {
   "cell_type": "code",
   "execution_count": 30,
   "id": "56e2c71d-2a56-454c-b0f7-03605819e640",
   "metadata": {},
   "outputs": [
    {
     "ename": "ValueError",
     "evalue": "Cannot describe a DataFrame without columns",
     "output_type": "error",
     "traceback": [
      "\u001b[0;31m---------------------------------------------------------------------------\u001b[0m",
      "\u001b[0;31mValueError\u001b[0m                                Traceback (most recent call last)",
      "Input \u001b[0;32mIn [30]\u001b[0m, in \u001b[0;36m<cell line: 1>\u001b[0;34m()\u001b[0m\n\u001b[0;32m----> 1\u001b[0m \u001b[43mpd\u001b[49m\u001b[38;5;241;43m.\u001b[39;49m\u001b[43mDataFrame\u001b[49m\u001b[43m(\u001b[49m\u001b[43mtempo\u001b[49m\u001b[43m[\u001b[49m\u001b[38;5;124;43m\"\u001b[39;49m\u001b[38;5;124;43mkassette\u001b[39;49m\u001b[38;5;124;43m\"\u001b[39;49m\u001b[43m]\u001b[49m\u001b[43m)\u001b[49m\u001b[38;5;241;43m.\u001b[39;49m\u001b[43mdescribe\u001b[49m\u001b[43m(\u001b[49m\u001b[43m)\u001b[49m\n",
      "File \u001b[0;32m/opt/conda/lib/python3.9/site-packages/pandas/core/generic.py:10235\u001b[0m, in \u001b[0;36mNDFrame.describe\u001b[0;34m(self, percentiles, include, exclude, datetime_is_numeric)\u001b[0m\n\u001b[1;32m   9986\u001b[0m \u001b[38;5;129m@final\u001b[39m\n\u001b[1;32m   9987\u001b[0m \u001b[38;5;28;01mdef\u001b[39;00m \u001b[38;5;21mdescribe\u001b[39m(\n\u001b[1;32m   9988\u001b[0m     \u001b[38;5;28mself\u001b[39m: NDFrameT,\n\u001b[0;32m   (...)\u001b[0m\n\u001b[1;32m   9992\u001b[0m     datetime_is_numeric\u001b[38;5;241m=\u001b[39m\u001b[38;5;28;01mFalse\u001b[39;00m,\n\u001b[1;32m   9993\u001b[0m ) \u001b[38;5;241m-\u001b[39m\u001b[38;5;241m>\u001b[39m NDFrameT:\n\u001b[1;32m   9994\u001b[0m     \u001b[38;5;124;03m\"\"\"\u001b[39;00m\n\u001b[1;32m   9995\u001b[0m \u001b[38;5;124;03m    Generate descriptive statistics.\u001b[39;00m\n\u001b[1;32m   9996\u001b[0m \n\u001b[0;32m   (...)\u001b[0m\n\u001b[1;32m  10233\u001b[0m \u001b[38;5;124;03m    max            NaN      3.0\u001b[39;00m\n\u001b[1;32m  10234\u001b[0m \u001b[38;5;124;03m    \"\"\"\u001b[39;00m\n\u001b[0;32m> 10235\u001b[0m     \u001b[38;5;28;01mreturn\u001b[39;00m \u001b[43mdescribe_ndframe\u001b[49m\u001b[43m(\u001b[49m\n\u001b[1;32m  10236\u001b[0m \u001b[43m        \u001b[49m\u001b[43mobj\u001b[49m\u001b[38;5;241;43m=\u001b[39;49m\u001b[38;5;28;43mself\u001b[39;49m\u001b[43m,\u001b[49m\n\u001b[1;32m  10237\u001b[0m \u001b[43m        \u001b[49m\u001b[43minclude\u001b[49m\u001b[38;5;241;43m=\u001b[39;49m\u001b[43minclude\u001b[49m\u001b[43m,\u001b[49m\n\u001b[1;32m  10238\u001b[0m \u001b[43m        \u001b[49m\u001b[43mexclude\u001b[49m\u001b[38;5;241;43m=\u001b[39;49m\u001b[43mexclude\u001b[49m\u001b[43m,\u001b[49m\n\u001b[1;32m  10239\u001b[0m \u001b[43m        \u001b[49m\u001b[43mdatetime_is_numeric\u001b[49m\u001b[38;5;241;43m=\u001b[39;49m\u001b[43mdatetime_is_numeric\u001b[49m\u001b[43m,\u001b[49m\n\u001b[1;32m  10240\u001b[0m \u001b[43m        \u001b[49m\u001b[43mpercentiles\u001b[49m\u001b[38;5;241;43m=\u001b[39;49m\u001b[43mpercentiles\u001b[49m\u001b[43m,\u001b[49m\n\u001b[1;32m  10241\u001b[0m \u001b[43m    \u001b[49m\u001b[43m)\u001b[49m\n",
      "File \u001b[0;32m/opt/conda/lib/python3.9/site-packages/pandas/core/describe.py:87\u001b[0m, in \u001b[0;36mdescribe_ndframe\u001b[0;34m(obj, include, exclude, datetime_is_numeric, percentiles)\u001b[0m\n\u001b[1;32m     82\u001b[0m     describer \u001b[38;5;241m=\u001b[39m SeriesDescriber(\n\u001b[1;32m     83\u001b[0m         obj\u001b[38;5;241m=\u001b[39mcast(\u001b[38;5;124m\"\u001b[39m\u001b[38;5;124mSeries\u001b[39m\u001b[38;5;124m\"\u001b[39m, obj),\n\u001b[1;32m     84\u001b[0m         datetime_is_numeric\u001b[38;5;241m=\u001b[39mdatetime_is_numeric,\n\u001b[1;32m     85\u001b[0m     )\n\u001b[1;32m     86\u001b[0m \u001b[38;5;28;01melse\u001b[39;00m:\n\u001b[0;32m---> 87\u001b[0m     describer \u001b[38;5;241m=\u001b[39m \u001b[43mDataFrameDescriber\u001b[49m\u001b[43m(\u001b[49m\n\u001b[1;32m     88\u001b[0m \u001b[43m        \u001b[49m\u001b[43mobj\u001b[49m\u001b[38;5;241;43m=\u001b[39;49m\u001b[43mcast\u001b[49m\u001b[43m(\u001b[49m\u001b[38;5;124;43m\"\u001b[39;49m\u001b[38;5;124;43mDataFrame\u001b[39;49m\u001b[38;5;124;43m\"\u001b[39;49m\u001b[43m,\u001b[49m\u001b[43m \u001b[49m\u001b[43mobj\u001b[49m\u001b[43m)\u001b[49m\u001b[43m,\u001b[49m\n\u001b[1;32m     89\u001b[0m \u001b[43m        \u001b[49m\u001b[43minclude\u001b[49m\u001b[38;5;241;43m=\u001b[39;49m\u001b[43minclude\u001b[49m\u001b[43m,\u001b[49m\n\u001b[1;32m     90\u001b[0m \u001b[43m        \u001b[49m\u001b[43mexclude\u001b[49m\u001b[38;5;241;43m=\u001b[39;49m\u001b[43mexclude\u001b[49m\u001b[43m,\u001b[49m\n\u001b[1;32m     91\u001b[0m \u001b[43m        \u001b[49m\u001b[43mdatetime_is_numeric\u001b[49m\u001b[38;5;241;43m=\u001b[39;49m\u001b[43mdatetime_is_numeric\u001b[49m\u001b[43m,\u001b[49m\n\u001b[1;32m     92\u001b[0m \u001b[43m    \u001b[49m\u001b[43m)\u001b[49m\n\u001b[1;32m     94\u001b[0m result \u001b[38;5;241m=\u001b[39m describer\u001b[38;5;241m.\u001b[39mdescribe(percentiles\u001b[38;5;241m=\u001b[39mpercentiles)\n\u001b[1;32m     95\u001b[0m \u001b[38;5;28;01mreturn\u001b[39;00m cast(NDFrameT, result)\n",
      "File \u001b[0;32m/opt/conda/lib/python3.9/site-packages/pandas/core/describe.py:164\u001b[0m, in \u001b[0;36mDataFrameDescriber.__init__\u001b[0;34m(self, obj, include, exclude, datetime_is_numeric)\u001b[0m\n\u001b[1;32m    161\u001b[0m \u001b[38;5;28mself\u001b[39m\u001b[38;5;241m.\u001b[39mexclude \u001b[38;5;241m=\u001b[39m exclude\n\u001b[1;32m    163\u001b[0m \u001b[38;5;28;01mif\u001b[39;00m obj\u001b[38;5;241m.\u001b[39mndim \u001b[38;5;241m==\u001b[39m \u001b[38;5;241m2\u001b[39m \u001b[38;5;129;01mand\u001b[39;00m obj\u001b[38;5;241m.\u001b[39mcolumns\u001b[38;5;241m.\u001b[39msize \u001b[38;5;241m==\u001b[39m \u001b[38;5;241m0\u001b[39m:\n\u001b[0;32m--> 164\u001b[0m     \u001b[38;5;28;01mraise\u001b[39;00m \u001b[38;5;167;01mValueError\u001b[39;00m(\u001b[38;5;124m\"\u001b[39m\u001b[38;5;124mCannot describe a DataFrame without columns\u001b[39m\u001b[38;5;124m\"\u001b[39m)\n\u001b[1;32m    166\u001b[0m \u001b[38;5;28msuper\u001b[39m()\u001b[38;5;241m.\u001b[39m\u001b[38;5;21m__init__\u001b[39m(obj, datetime_is_numeric\u001b[38;5;241m=\u001b[39mdatetime_is_numeric)\n",
      "\u001b[0;31mValueError\u001b[0m: Cannot describe a DataFrame without columns"
     ]
    }
   ],
   "source": [
    "pd.DataFrame(tempo[\"kassette\"]).describe()"
   ]
  },
  {
   "cell_type": "code",
   "execution_count": null,
   "id": "d1b7e8f3-e3da-4267-9d4c-3515c01975e9",
   "metadata": {
    "tags": []
   },
   "outputs": [],
   "source": [
    "showViolinPlot(tempo[\"kassette\"])"
   ]
  },
  {
   "cell_type": "code",
   "execution_count": null,
   "id": "bbb2801c-71fc-432b-ac7b-a5ccc69caa10",
   "metadata": {},
   "outputs": [],
   "source": [
    "showHistogram(tempo[\"kassette\"])"
   ]
  },
  {
   "cell_type": "code",
   "execution_count": null,
   "id": "7554748d-f0cf-4d33-9d01-b8eb7d58c2f3",
   "metadata": {},
   "outputs": [],
   "source": [
    "# CD"
   ]
  },
  {
   "cell_type": "code",
   "execution_count": 31,
   "id": "6b44c8ab-a010-4dc6-90b7-5d3c897fab37",
   "metadata": {},
   "outputs": [
    {
     "ename": "ValueError",
     "evalue": "Cannot describe a DataFrame without columns",
     "output_type": "error",
     "traceback": [
      "\u001b[0;31m---------------------------------------------------------------------------\u001b[0m",
      "\u001b[0;31mValueError\u001b[0m                                Traceback (most recent call last)",
      "Input \u001b[0;32mIn [31]\u001b[0m, in \u001b[0;36m<cell line: 1>\u001b[0;34m()\u001b[0m\n\u001b[0;32m----> 1\u001b[0m \u001b[43mpd\u001b[49m\u001b[38;5;241;43m.\u001b[39;49m\u001b[43mDataFrame\u001b[49m\u001b[43m(\u001b[49m\u001b[43mtempo\u001b[49m\u001b[43m[\u001b[49m\u001b[38;5;124;43m\"\u001b[39;49m\u001b[38;5;124;43mcd\u001b[39;49m\u001b[38;5;124;43m\"\u001b[39;49m\u001b[43m]\u001b[49m\u001b[43m)\u001b[49m\u001b[38;5;241;43m.\u001b[39;49m\u001b[43mdescribe\u001b[49m\u001b[43m(\u001b[49m\u001b[43m)\u001b[49m\n",
      "File \u001b[0;32m/opt/conda/lib/python3.9/site-packages/pandas/core/generic.py:10235\u001b[0m, in \u001b[0;36mNDFrame.describe\u001b[0;34m(self, percentiles, include, exclude, datetime_is_numeric)\u001b[0m\n\u001b[1;32m   9986\u001b[0m \u001b[38;5;129m@final\u001b[39m\n\u001b[1;32m   9987\u001b[0m \u001b[38;5;28;01mdef\u001b[39;00m \u001b[38;5;21mdescribe\u001b[39m(\n\u001b[1;32m   9988\u001b[0m     \u001b[38;5;28mself\u001b[39m: NDFrameT,\n\u001b[0;32m   (...)\u001b[0m\n\u001b[1;32m   9992\u001b[0m     datetime_is_numeric\u001b[38;5;241m=\u001b[39m\u001b[38;5;28;01mFalse\u001b[39;00m,\n\u001b[1;32m   9993\u001b[0m ) \u001b[38;5;241m-\u001b[39m\u001b[38;5;241m>\u001b[39m NDFrameT:\n\u001b[1;32m   9994\u001b[0m     \u001b[38;5;124;03m\"\"\"\u001b[39;00m\n\u001b[1;32m   9995\u001b[0m \u001b[38;5;124;03m    Generate descriptive statistics.\u001b[39;00m\n\u001b[1;32m   9996\u001b[0m \n\u001b[0;32m   (...)\u001b[0m\n\u001b[1;32m  10233\u001b[0m \u001b[38;5;124;03m    max            NaN      3.0\u001b[39;00m\n\u001b[1;32m  10234\u001b[0m \u001b[38;5;124;03m    \"\"\"\u001b[39;00m\n\u001b[0;32m> 10235\u001b[0m     \u001b[38;5;28;01mreturn\u001b[39;00m \u001b[43mdescribe_ndframe\u001b[49m\u001b[43m(\u001b[49m\n\u001b[1;32m  10236\u001b[0m \u001b[43m        \u001b[49m\u001b[43mobj\u001b[49m\u001b[38;5;241;43m=\u001b[39;49m\u001b[38;5;28;43mself\u001b[39;49m\u001b[43m,\u001b[49m\n\u001b[1;32m  10237\u001b[0m \u001b[43m        \u001b[49m\u001b[43minclude\u001b[49m\u001b[38;5;241;43m=\u001b[39;49m\u001b[43minclude\u001b[49m\u001b[43m,\u001b[49m\n\u001b[1;32m  10238\u001b[0m \u001b[43m        \u001b[49m\u001b[43mexclude\u001b[49m\u001b[38;5;241;43m=\u001b[39;49m\u001b[43mexclude\u001b[49m\u001b[43m,\u001b[49m\n\u001b[1;32m  10239\u001b[0m \u001b[43m        \u001b[49m\u001b[43mdatetime_is_numeric\u001b[49m\u001b[38;5;241;43m=\u001b[39;49m\u001b[43mdatetime_is_numeric\u001b[49m\u001b[43m,\u001b[49m\n\u001b[1;32m  10240\u001b[0m \u001b[43m        \u001b[49m\u001b[43mpercentiles\u001b[49m\u001b[38;5;241;43m=\u001b[39;49m\u001b[43mpercentiles\u001b[49m\u001b[43m,\u001b[49m\n\u001b[1;32m  10241\u001b[0m \u001b[43m    \u001b[49m\u001b[43m)\u001b[49m\n",
      "File \u001b[0;32m/opt/conda/lib/python3.9/site-packages/pandas/core/describe.py:87\u001b[0m, in \u001b[0;36mdescribe_ndframe\u001b[0;34m(obj, include, exclude, datetime_is_numeric, percentiles)\u001b[0m\n\u001b[1;32m     82\u001b[0m     describer \u001b[38;5;241m=\u001b[39m SeriesDescriber(\n\u001b[1;32m     83\u001b[0m         obj\u001b[38;5;241m=\u001b[39mcast(\u001b[38;5;124m\"\u001b[39m\u001b[38;5;124mSeries\u001b[39m\u001b[38;5;124m\"\u001b[39m, obj),\n\u001b[1;32m     84\u001b[0m         datetime_is_numeric\u001b[38;5;241m=\u001b[39mdatetime_is_numeric,\n\u001b[1;32m     85\u001b[0m     )\n\u001b[1;32m     86\u001b[0m \u001b[38;5;28;01melse\u001b[39;00m:\n\u001b[0;32m---> 87\u001b[0m     describer \u001b[38;5;241m=\u001b[39m \u001b[43mDataFrameDescriber\u001b[49m\u001b[43m(\u001b[49m\n\u001b[1;32m     88\u001b[0m \u001b[43m        \u001b[49m\u001b[43mobj\u001b[49m\u001b[38;5;241;43m=\u001b[39;49m\u001b[43mcast\u001b[49m\u001b[43m(\u001b[49m\u001b[38;5;124;43m\"\u001b[39;49m\u001b[38;5;124;43mDataFrame\u001b[39;49m\u001b[38;5;124;43m\"\u001b[39;49m\u001b[43m,\u001b[49m\u001b[43m \u001b[49m\u001b[43mobj\u001b[49m\u001b[43m)\u001b[49m\u001b[43m,\u001b[49m\n\u001b[1;32m     89\u001b[0m \u001b[43m        \u001b[49m\u001b[43minclude\u001b[49m\u001b[38;5;241;43m=\u001b[39;49m\u001b[43minclude\u001b[49m\u001b[43m,\u001b[49m\n\u001b[1;32m     90\u001b[0m \u001b[43m        \u001b[49m\u001b[43mexclude\u001b[49m\u001b[38;5;241;43m=\u001b[39;49m\u001b[43mexclude\u001b[49m\u001b[43m,\u001b[49m\n\u001b[1;32m     91\u001b[0m \u001b[43m        \u001b[49m\u001b[43mdatetime_is_numeric\u001b[49m\u001b[38;5;241;43m=\u001b[39;49m\u001b[43mdatetime_is_numeric\u001b[49m\u001b[43m,\u001b[49m\n\u001b[1;32m     92\u001b[0m \u001b[43m    \u001b[49m\u001b[43m)\u001b[49m\n\u001b[1;32m     94\u001b[0m result \u001b[38;5;241m=\u001b[39m describer\u001b[38;5;241m.\u001b[39mdescribe(percentiles\u001b[38;5;241m=\u001b[39mpercentiles)\n\u001b[1;32m     95\u001b[0m \u001b[38;5;28;01mreturn\u001b[39;00m cast(NDFrameT, result)\n",
      "File \u001b[0;32m/opt/conda/lib/python3.9/site-packages/pandas/core/describe.py:164\u001b[0m, in \u001b[0;36mDataFrameDescriber.__init__\u001b[0;34m(self, obj, include, exclude, datetime_is_numeric)\u001b[0m\n\u001b[1;32m    161\u001b[0m \u001b[38;5;28mself\u001b[39m\u001b[38;5;241m.\u001b[39mexclude \u001b[38;5;241m=\u001b[39m exclude\n\u001b[1;32m    163\u001b[0m \u001b[38;5;28;01mif\u001b[39;00m obj\u001b[38;5;241m.\u001b[39mndim \u001b[38;5;241m==\u001b[39m \u001b[38;5;241m2\u001b[39m \u001b[38;5;129;01mand\u001b[39;00m obj\u001b[38;5;241m.\u001b[39mcolumns\u001b[38;5;241m.\u001b[39msize \u001b[38;5;241m==\u001b[39m \u001b[38;5;241m0\u001b[39m:\n\u001b[0;32m--> 164\u001b[0m     \u001b[38;5;28;01mraise\u001b[39;00m \u001b[38;5;167;01mValueError\u001b[39;00m(\u001b[38;5;124m\"\u001b[39m\u001b[38;5;124mCannot describe a DataFrame without columns\u001b[39m\u001b[38;5;124m\"\u001b[39m)\n\u001b[1;32m    166\u001b[0m \u001b[38;5;28msuper\u001b[39m()\u001b[38;5;241m.\u001b[39m\u001b[38;5;21m__init__\u001b[39m(obj, datetime_is_numeric\u001b[38;5;241m=\u001b[39mdatetime_is_numeric)\n",
      "\u001b[0;31mValueError\u001b[0m: Cannot describe a DataFrame without columns"
     ]
    }
   ],
   "source": [
    "pd.DataFrame(tempo[\"cd\"]).describe()"
   ]
  },
  {
   "cell_type": "code",
   "execution_count": null,
   "id": "845eddcd-7489-431f-8753-f25ab46c7947",
   "metadata": {
    "tags": []
   },
   "outputs": [],
   "source": [
    "showViolinPlot(tempo[\"cd\"])"
   ]
  },
  {
   "cell_type": "code",
   "execution_count": null,
   "id": "fc0c8591-fa1c-4226-b8a0-82bf4861ab40",
   "metadata": {},
   "outputs": [],
   "source": [
    "showHistogram(tempo[\"cd\"])"
   ]
  },
  {
   "cell_type": "code",
   "execution_count": null,
   "id": "d61ea618-a4d7-4018-b4e1-c953f744ff65",
   "metadata": {},
   "outputs": [],
   "source": [
    "# MP3"
   ]
  },
  {
   "cell_type": "code",
   "execution_count": 32,
   "id": "c82ad349-e546-4d5f-8ebf-25541e708bdd",
   "metadata": {},
   "outputs": [
    {
     "data": {
      "text/html": [
       "<div>\n",
       "<style scoped>\n",
       "    .dataframe tbody tr th:only-of-type {\n",
       "        vertical-align: middle;\n",
       "    }\n",
       "\n",
       "    .dataframe tbody tr th {\n",
       "        vertical-align: top;\n",
       "    }\n",
       "\n",
       "    .dataframe thead th {\n",
       "        text-align: right;\n",
       "    }\n",
       "</style>\n",
       "<table border=\"1\" class=\"dataframe\">\n",
       "  <thead>\n",
       "    <tr style=\"text-align: right;\">\n",
       "      <th></th>\n",
       "      <th>0</th>\n",
       "    </tr>\n",
       "  </thead>\n",
       "  <tbody>\n",
       "    <tr>\n",
       "      <th>count</th>\n",
       "      <td>3215.000000</td>\n",
       "    </tr>\n",
       "    <tr>\n",
       "      <th>mean</th>\n",
       "      <td>125.987034</td>\n",
       "    </tr>\n",
       "    <tr>\n",
       "      <th>std</th>\n",
       "      <td>35.944178</td>\n",
       "    </tr>\n",
       "    <tr>\n",
       "      <th>min</th>\n",
       "      <td>0.000000</td>\n",
       "    </tr>\n",
       "    <tr>\n",
       "      <th>25%</th>\n",
       "      <td>98.875000</td>\n",
       "    </tr>\n",
       "    <tr>\n",
       "      <th>50%</th>\n",
       "      <td>122.838000</td>\n",
       "    </tr>\n",
       "    <tr>\n",
       "      <th>75%</th>\n",
       "      <td>148.036000</td>\n",
       "    </tr>\n",
       "    <tr>\n",
       "      <th>max</th>\n",
       "      <td>258.677000</td>\n",
       "    </tr>\n",
       "  </tbody>\n",
       "</table>\n",
       "</div>"
      ],
      "text/plain": [
       "                 0\n",
       "count  3215.000000\n",
       "mean    125.987034\n",
       "std      35.944178\n",
       "min       0.000000\n",
       "25%      98.875000\n",
       "50%     122.838000\n",
       "75%     148.036000\n",
       "max     258.677000"
      ]
     },
     "execution_count": 32,
     "metadata": {},
     "output_type": "execute_result"
    }
   ],
   "source": [
    "pd.DataFrame(tempo[\"mp3\"]).describe()"
   ]
  },
  {
   "cell_type": "code",
   "execution_count": 33,
   "id": "a8fa79ec-6ae3-40be-a19b-9042bb6e1f26",
   "metadata": {
    "tags": []
   },
   "outputs": [
    {
     "data": {
      "image/png": "[encoded data removed]",
      "text/plain": [
       "<Figure size 432x288 with 1 Axes>"
      ]
     },
     "metadata": {
      "needs_background": "light"
     },
     "output_type": "display_data"
    }
   ],
   "source": [
    "showViolinPlot(tempo[\"mp3\"])"
   ]
  },
  {
   "cell_type": "code",
   "execution_count": 34,
   "id": "d1cdda97-20b4-440e-94fc-a062711fe22f",
   "metadata": {},
   "outputs": [
    {
     "data": {
      "image/png": "[encoded data removed]",
      "text/plain": [
       "<Figure size 432x288 with 1 Axes>"
      ]
     },
     "metadata": {
      "needs_background": "light"
     },
     "output_type": "display_data"
    }
   ],
   "source": [
    "showHistogram(tempo[\"mp3\"])"
   ]
  }
 ],
 "metadata": {
  "kernelspec": {
   "display_name": "Python 3 (ipykernel)",
   "language": "python",
   "name": "python3"
  },
  "language_info": {
   "codemirror_mode": {
    "name": "ipython",
    "version": 3
   },
   "file_extension": ".py",
   "mimetype": "text/x-python",
   "name": "python",
   "nbconvert_exporter": "python",
   "pygments_lexer": "ipython3",
   "version": "3.9.10"
  }
 },
 "nbformat": 4,
 "nbformat_minor": 5
}
