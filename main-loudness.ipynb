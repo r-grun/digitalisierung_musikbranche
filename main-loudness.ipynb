{
 "cells": [
  {
   "cell_type": "code",
   "execution_count": 1,
   "id": "d49a6b1e-b049-4ef8-8003-ca6999a5595f",
   "metadata": {},
   "outputs": [],
   "source": [
    "from hdf5_getters import get_loudness\n",
    "from utils import get_stat_filtered_by_years\n",
    "import matplotlib.pyplot as plt\n",
    "import pandas as pd"
   ]
  },
  {
   "cell_type": "code",
   "execution_count": 2,
   "id": "ea7fc934-f3a1-486b-8f36-e8d85e55d013",
   "metadata": {},
   "outputs": [],
   "source": [
    "def get_stat_filtered_by_years(basedir, stat,ext='.h5') :\n",
    "    titles = {\"tape\": [], \"vinyl\": [], \"kassette\": [], \"cd\": [], \"mp3\": []}\n",
    "    for root, dirs, files in os.walk(basedir):\n",
    "        files = glob.glob(os.path.join(root,'*'+ext))\n",
    "        for f in files:\n",
    "            try:\n",
    "                h5 = hdf5_getters.open_h5_file_read(f)\n",
    "                \n",
    "                year = hdf5_getters.get_year(h5)\n",
    "                \n",
    "                if year < 1926:\n",
    "                    continue\n",
    "                elif year < 1947:\n",
    "                    titles[\"tape\"].append(stat(h5))\n",
    "                elif year < 1967:\n",
    "                    titles[\"vinyl\"].append(stat(h5))\n",
    "                elif year < 1981:\n",
    "                    titles[\"kassette\"].append(stat(h5))\n",
    "                elif year < 1989:\n",
    "                    titles[\"cd\"].append(stat(h5))\n",
    "                else: \n",
    "                    titles[\"mp3\"].append(stat(h5))\n",
    "                \n",
    "                h5.close()\n",
    "                \n",
    "            except:\n",
    "                pass\n",
    "    return titles"
   ]
  },
  {
   "cell_type": "code",
   "execution_count": 3,
   "id": "83efdc04-d627-4a8a-8da6-ef4209d0546c",
   "metadata": {
    "tags": []
   },
   "outputs": [],
   "source": [
    "loudness = get_stat_filtered_by_years(\"MillionSongSubset\", hdf5_getters.get_loudness)"
   ]
  },
  {
   "cell_type": "code",
   "execution_count": 4,
   "id": "29ca2d2a-d273-4c06-86ac-81a751ed77e5",
   "metadata": {},
   "outputs": [],
   "source": [
    "def showViolinPlot(data):\n",
    "    # Create a figure instance\n",
    "    fig = plt.figure()\n",
    "\n",
    "    # Create an axes instance\n",
    "    ax = fig.add_axes([0,0,1,1])\n",
    "\n",
    "    # Create the boxplot\n",
    "    bpm = ax.violinplot(data, showmeans=True, showmedians=True)\n",
    "    plt.show()"
   ]
  },
  {
   "cell_type": "code",
   "execution_count": 5,
   "id": "c98faba1-b630-4c78-89ca-dcb5fe082f13",
   "metadata": {},
   "outputs": [],
   "source": [
    "def showHistogram(data):\n",
    "    # Create a figure instance\n",
    "    fig = plt.figure()\n",
    "\n",
    "    # Create an axes instance\n",
    "    ax = fig.add_axes([0,0,1,1])\n",
    "\n",
    "    # Create the boxplot\n",
    "    bpm = ax.hist(data, bins=int(max(data)-min(data)))\n",
    "    plt.show()"
   ]
  },
  {
   "cell_type": "markdown",
   "id": "1b1ed828-9aaf-41d8-8e9a-b89970d2fdae",
   "metadata": {},
   "source": [
    "# Tape"
   ]
  },
  {
   "cell_type": "code",
   "execution_count": 6,
   "id": "a32ff468-291a-4594-8183-1eeac9ec26f5",
   "metadata": {},
   "outputs": [
    {
     "data": {
      "text/html": [
       "<div>\n",
       "<style scoped>\n",
       "    .dataframe tbody tr th:only-of-type {\n",
       "        vertical-align: middle;\n",
       "    }\n",
       "\n",
       "    .dataframe tbody tr th {\n",
       "        vertical-align: top;\n",
       "    }\n",
       "\n",
       "    .dataframe thead th {\n",
       "        text-align: right;\n",
       "    }\n",
       "</style>\n",
       "<table border=\"1\" class=\"dataframe\">\n",
       "  <thead>\n",
       "    <tr style=\"text-align: right;\">\n",
       "      <th></th>\n",
       "      <th>0</th>\n",
       "    </tr>\n",
       "  </thead>\n",
       "  <tbody>\n",
       "    <tr>\n",
       "      <th>count</th>\n",
       "      <td>12.00000</td>\n",
       "    </tr>\n",
       "    <tr>\n",
       "      <th>mean</th>\n",
       "      <td>-18.22650</td>\n",
       "    </tr>\n",
       "    <tr>\n",
       "      <th>std</th>\n",
       "      <td>5.52239</td>\n",
       "    </tr>\n",
       "    <tr>\n",
       "      <th>min</th>\n",
       "      <td>-30.53000</td>\n",
       "    </tr>\n",
       "    <tr>\n",
       "      <th>25%</th>\n",
       "      <td>-20.05600</td>\n",
       "    </tr>\n",
       "    <tr>\n",
       "      <th>50%</th>\n",
       "      <td>-18.02450</td>\n",
       "    </tr>\n",
       "    <tr>\n",
       "      <th>75%</th>\n",
       "      <td>-15.09125</td>\n",
       "    </tr>\n",
       "    <tr>\n",
       "      <th>max</th>\n",
       "      <td>-10.69700</td>\n",
       "    </tr>\n",
       "  </tbody>\n",
       "</table>\n",
       "</div>"
      ],
      "text/plain": [
       "              0\n",
       "count  12.00000\n",
       "mean  -18.22650\n",
       "std     5.52239\n",
       "min   -30.53000\n",
       "25%   -20.05600\n",
       "50%   -18.02450\n",
       "75%   -15.09125\n",
       "max   -10.69700"
      ]
     },
     "execution_count": 6,
     "metadata": {},
     "output_type": "execute_result"
    }
   ],
   "source": [
    "pd.DataFrame(loudness[\"tape\"]).describe()"
   ]
  },
  {
   "cell_type": "code",
   "execution_count": 7,
   "id": "4340fc04-c398-425f-a890-584216798f7a",
   "metadata": {
    "tags": []
   },
   "outputs": [
    {
     "data": {
      "image/png": "[encoded data removed]",
      "text/plain": [
       "<Figure size 432x288 with 1 Axes>"
      ]
     },
     "metadata": {
      "needs_background": "light"
     },
     "output_type": "display_data"
    }
   ],
   "source": [
    "showViolinPlot(loudness[\"tape\"])"
   ]
  },
  {
   "cell_type": "code",
   "execution_count": 8,
   "id": "2a075344-eb05-4321-87d2-096c003e53c6",
   "metadata": {},
   "outputs": [
    {
     "data": {
      "image/png": "[encoded data removed]",
      "text/plain": [
       "<Figure size 432x288 with 1 Axes>"
      ]
     },
     "metadata": {
      "needs_background": "light"
     },
     "output_type": "display_data"
    }
   ],
   "source": [
    "showHistogram(loudness[\"tape\"])"
   ]
  },
  {
   "cell_type": "markdown",
   "id": "b4252bca-dd04-47ac-9c59-436ff8e2c81e",
   "metadata": {},
   "source": [
    "# Vinyl"
   ]
  },
  {
   "cell_type": "code",
   "execution_count": 10,
   "id": "a61c0810-9a28-4d09-9884-88e8d6487016",
   "metadata": {},
   "outputs": [
    {
     "data": {
      "text/html": [
       "<div>\n",
       "<style scoped>\n",
       "    .dataframe tbody tr th:only-of-type {\n",
       "        vertical-align: middle;\n",
       "    }\n",
       "\n",
       "    .dataframe tbody tr th {\n",
       "        vertical-align: top;\n",
       "    }\n",
       "\n",
       "    .dataframe thead th {\n",
       "        text-align: right;\n",
       "    }\n",
       "</style>\n",
       "<table border=\"1\" class=\"dataframe\">\n",
       "  <thead>\n",
       "    <tr style=\"text-align: right;\">\n",
       "      <th></th>\n",
       "      <th>0</th>\n",
       "    </tr>\n",
       "  </thead>\n",
       "  <tbody>\n",
       "    <tr>\n",
       "      <th>count</th>\n",
       "      <td>62.000000</td>\n",
       "    </tr>\n",
       "    <tr>\n",
       "      <th>mean</th>\n",
       "      <td>-12.640903</td>\n",
       "    </tr>\n",
       "    <tr>\n",
       "      <th>std</th>\n",
       "      <td>5.007739</td>\n",
       "    </tr>\n",
       "    <tr>\n",
       "      <th>min</th>\n",
       "      <td>-26.997000</td>\n",
       "    </tr>\n",
       "    <tr>\n",
       "      <th>25%</th>\n",
       "      <td>-15.215250</td>\n",
       "    </tr>\n",
       "    <tr>\n",
       "      <th>50%</th>\n",
       "      <td>-11.632500</td>\n",
       "    </tr>\n",
       "    <tr>\n",
       "      <th>75%</th>\n",
       "      <td>-9.067000</td>\n",
       "    </tr>\n",
       "    <tr>\n",
       "      <th>max</th>\n",
       "      <td>-5.144000</td>\n",
       "    </tr>\n",
       "  </tbody>\n",
       "</table>\n",
       "</div>"
      ],
      "text/plain": [
       "               0\n",
       "count  62.000000\n",
       "mean  -12.640903\n",
       "std     5.007739\n",
       "min   -26.997000\n",
       "25%   -15.215250\n",
       "50%   -11.632500\n",
       "75%    -9.067000\n",
       "max    -5.144000"
      ]
     },
     "execution_count": 10,
     "metadata": {},
     "output_type": "execute_result"
    }
   ],
   "source": [
    "pd.DataFrame(loudness[\"vinyl\"]).describe()"
   ]
  },
  {
   "cell_type": "code",
   "execution_count": 11,
   "id": "ef9884f6-870d-4f59-a65b-0db16a0e5c8d",
   "metadata": {
    "tags": []
   },
   "outputs": [
    {
     "data": {
      "image/png": "[encoded data removed]",
      "text/plain": [
       "<Figure size 432x288 with 1 Axes>"
      ]
     },
     "metadata": {
      "needs_background": "light"
     },
     "output_type": "display_data"
    }
   ],
   "source": [
    "showViolinPlot(loudness[\"vinyl\"])"
   ]
  },
  {
   "cell_type": "code",
   "execution_count": 12,
   "id": "0a97b1b9-3c80-456a-aeed-3eb1f7d65a47",
   "metadata": {},
   "outputs": [
    {
     "data": {
      "image/png": "[encoded data removed]",
      "text/plain": [
       "<Figure size 432x288 with 1 Axes>"
      ]
     },
     "metadata": {
      "needs_background": "light"
     },
     "output_type": "display_data"
    }
   ],
   "source": [
    "showHistogram(loudness[\"vinyl\"])"
   ]
  },
  {
   "cell_type": "markdown",
   "id": "6ad14149-eb8b-4d3f-be1e-fc490b3dd5c5",
   "metadata": {},
   "source": [
    "# Kassette"
   ]
  },
  {
   "cell_type": "code",
   "execution_count": 14,
   "id": "56e2c71d-2a56-454c-b0f7-03605819e640",
   "metadata": {},
   "outputs": [
    {
     "data": {
      "text/html": [
       "<div>\n",
       "<style scoped>\n",
       "    .dataframe tbody tr th:only-of-type {\n",
       "        vertical-align: middle;\n",
       "    }\n",
       "\n",
       "    .dataframe tbody tr th {\n",
       "        vertical-align: top;\n",
       "    }\n",
       "\n",
       "    .dataframe thead th {\n",
       "        text-align: right;\n",
       "    }\n",
       "</style>\n",
       "<table border=\"1\" class=\"dataframe\">\n",
       "  <thead>\n",
       "    <tr style=\"text-align: right;\">\n",
       "      <th></th>\n",
       "      <th>0</th>\n",
       "    </tr>\n",
       "  </thead>\n",
       "  <tbody>\n",
       "    <tr>\n",
       "      <th>count</th>\n",
       "      <td>260.000000</td>\n",
       "    </tr>\n",
       "    <tr>\n",
       "      <th>mean</th>\n",
       "      <td>-11.797669</td>\n",
       "    </tr>\n",
       "    <tr>\n",
       "      <th>std</th>\n",
       "      <td>4.068854</td>\n",
       "    </tr>\n",
       "    <tr>\n",
       "      <th>min</th>\n",
       "      <td>-27.885000</td>\n",
       "    </tr>\n",
       "    <tr>\n",
       "      <th>25%</th>\n",
       "      <td>-13.741750</td>\n",
       "    </tr>\n",
       "    <tr>\n",
       "      <th>50%</th>\n",
       "      <td>-11.666000</td>\n",
       "    </tr>\n",
       "    <tr>\n",
       "      <th>75%</th>\n",
       "      <td>-9.034500</td>\n",
       "    </tr>\n",
       "    <tr>\n",
       "      <th>max</th>\n",
       "      <td>-2.969000</td>\n",
       "    </tr>\n",
       "  </tbody>\n",
       "</table>\n",
       "</div>"
      ],
      "text/plain": [
       "                0\n",
       "count  260.000000\n",
       "mean   -11.797669\n",
       "std      4.068854\n",
       "min    -27.885000\n",
       "25%    -13.741750\n",
       "50%    -11.666000\n",
       "75%     -9.034500\n",
       "max     -2.969000"
      ]
     },
     "execution_count": 14,
     "metadata": {},
     "output_type": "execute_result"
    }
   ],
   "source": [
    "pd.DataFrame(loudness[\"kassette\"]).describe()"
   ]
  },
  {
   "cell_type": "code",
   "execution_count": 15,
   "id": "d1b7e8f3-e3da-4267-9d4c-3515c01975e9",
   "metadata": {
    "tags": []
   },
   "outputs": [
    {
     "data": {
      "image/png": "[encoded data removed]",
      "text/plain": [
       "<Figure size 432x288 with 1 Axes>"
      ]
     },
     "metadata": {
      "needs_background": "light"
     },
     "output_type": "display_data"
    }
   ],
   "source": [
    "showViolinPlot(loudness[\"kassette\"])"
   ]
  },
  {
   "cell_type": "code",
   "execution_count": 16,
   "id": "bbb2801c-71fc-432b-ac7b-a5ccc69caa10",
   "metadata": {},
   "outputs": [
    {
     "data": {
      "image/png": "[encoded data removed]",
      "text/plain": [
       "<Figure size 432x288 with 1 Axes>"
      ]
     },
     "metadata": {
      "needs_background": "light"
     },
     "output_type": "display_data"
    }
   ],
   "source": [
    "showHistogram(loudness[\"kassette\"])"
   ]
  },
  {
   "cell_type": "markdown",
   "id": "c9eb7163-9905-4f6d-a62f-638a22632ea5",
   "metadata": {},
   "source": [
    "# CD"
   ]
  },
  {
   "cell_type": "code",
   "execution_count": 18,
   "id": "6b44c8ab-a010-4dc6-90b7-5d3c897fab37",
   "metadata": {},
   "outputs": [
    {
     "data": {
      "text/html": [
       "<div>\n",
       "<style scoped>\n",
       "    .dataframe tbody tr th:only-of-type {\n",
       "        vertical-align: middle;\n",
       "    }\n",
       "\n",
       "    .dataframe tbody tr th {\n",
       "        vertical-align: top;\n",
       "    }\n",
       "\n",
       "    .dataframe thead th {\n",
       "        text-align: right;\n",
       "    }\n",
       "</style>\n",
       "<table border=\"1\" class=\"dataframe\">\n",
       "  <thead>\n",
       "    <tr style=\"text-align: right;\">\n",
       "      <th></th>\n",
       "      <th>0</th>\n",
       "    </tr>\n",
       "  </thead>\n",
       "  <tbody>\n",
       "    <tr>\n",
       "      <th>count</th>\n",
       "      <td>249.000000</td>\n",
       "    </tr>\n",
       "    <tr>\n",
       "      <th>mean</th>\n",
       "      <td>-11.429526</td>\n",
       "    </tr>\n",
       "    <tr>\n",
       "      <th>std</th>\n",
       "      <td>5.467359</td>\n",
       "    </tr>\n",
       "    <tr>\n",
       "      <th>min</th>\n",
       "      <td>-38.525000</td>\n",
       "    </tr>\n",
       "    <tr>\n",
       "      <th>25%</th>\n",
       "      <td>-13.770000</td>\n",
       "    </tr>\n",
       "    <tr>\n",
       "      <th>50%</th>\n",
       "      <td>-10.762000</td>\n",
       "    </tr>\n",
       "    <tr>\n",
       "      <th>75%</th>\n",
       "      <td>-7.897000</td>\n",
       "    </tr>\n",
       "    <tr>\n",
       "      <th>max</th>\n",
       "      <td>-2.246000</td>\n",
       "    </tr>\n",
       "  </tbody>\n",
       "</table>\n",
       "</div>"
      ],
      "text/plain": [
       "                0\n",
       "count  249.000000\n",
       "mean   -11.429526\n",
       "std      5.467359\n",
       "min    -38.525000\n",
       "25%    -13.770000\n",
       "50%    -10.762000\n",
       "75%     -7.897000\n",
       "max     -2.246000"
      ]
     },
     "execution_count": 18,
     "metadata": {},
     "output_type": "execute_result"
    }
   ],
   "source": [
    "pd.DataFrame(loudness[\"cd\"]).describe()"
   ]
  },
  {
   "cell_type": "code",
   "execution_count": 19,
   "id": "845eddcd-7489-431f-8753-f25ab46c7947",
   "metadata": {
    "tags": []
   },
   "outputs": [
    {
     "data": {
      "image/png": "[encoded data removed]",
      "text/plain": [
       "<Figure size 432x288 with 1 Axes>"
      ]
     },
     "metadata": {
      "needs_background": "light"
     },
     "output_type": "display_data"
    }
   ],
   "source": [
    "showViolinPlot(loudness[\"cd\"])"
   ]
  },
  {
   "cell_type": "code",
   "execution_count": 20,
   "id": "fc0c8591-fa1c-4226-b8a0-82bf4861ab40",
   "metadata": {},
   "outputs": [
    {
     "data": {
      "image/png": "[encoded data removed]",
      "text/plain": [
       "<Figure size 432x288 with 1 Axes>"
      ]
     },
     "metadata": {
      "needs_background": "light"
     },
     "output_type": "display_data"
    }
   ],
   "source": [
    "showHistogram(loudness[\"cd\"])"
   ]
  },
  {
   "cell_type": "markdown",
   "id": "66fd47e5-e403-4873-81bf-56f0237c3cdd",
   "metadata": {},
   "source": [
    "# MP3"
   ]
  },
  {
   "cell_type": "code",
   "execution_count": 22,
   "id": "c82ad349-e546-4d5f-8ebf-25541e708bdd",
   "metadata": {},
   "outputs": [
    {
     "data": {
      "text/html": [
       "<div>\n",
       "<style scoped>\n",
       "    .dataframe tbody tr th:only-of-type {\n",
       "        vertical-align: middle;\n",
       "    }\n",
       "\n",
       "    .dataframe tbody tr th {\n",
       "        vertical-align: top;\n",
       "    }\n",
       "\n",
       "    .dataframe thead th {\n",
       "        text-align: right;\n",
       "    }\n",
       "</style>\n",
       "<table border=\"1\" class=\"dataframe\">\n",
       "  <thead>\n",
       "    <tr style=\"text-align: right;\">\n",
       "      <th></th>\n",
       "      <th>0</th>\n",
       "    </tr>\n",
       "  </thead>\n",
       "  <tbody>\n",
       "    <tr>\n",
       "      <th>count</th>\n",
       "      <td>2706.000000</td>\n",
       "    </tr>\n",
       "    <tr>\n",
       "      <th>mean</th>\n",
       "      <td>-9.223234</td>\n",
       "    </tr>\n",
       "    <tr>\n",
       "      <th>std</th>\n",
       "      <td>5.032873</td>\n",
       "    </tr>\n",
       "    <tr>\n",
       "      <th>min</th>\n",
       "      <td>-38.148000</td>\n",
       "    </tr>\n",
       "    <tr>\n",
       "      <th>25%</th>\n",
       "      <td>-11.589500</td>\n",
       "    </tr>\n",
       "    <tr>\n",
       "      <th>50%</th>\n",
       "      <td>-7.949500</td>\n",
       "    </tr>\n",
       "    <tr>\n",
       "      <th>75%</th>\n",
       "      <td>-5.747000</td>\n",
       "    </tr>\n",
       "    <tr>\n",
       "      <th>max</th>\n",
       "      <td>0.566000</td>\n",
       "    </tr>\n",
       "  </tbody>\n",
       "</table>\n",
       "</div>"
      ],
      "text/plain": [
       "                 0\n",
       "count  2706.000000\n",
       "mean     -9.223234\n",
       "std       5.032873\n",
       "min     -38.148000\n",
       "25%     -11.589500\n",
       "50%      -7.949500\n",
       "75%      -5.747000\n",
       "max       0.566000"
      ]
     },
     "execution_count": 22,
     "metadata": {},
     "output_type": "execute_result"
    }
   ],
   "source": [
    "pd.DataFrame(loudness[\"mp3\"]).describe()"
   ]
  },
  {
   "cell_type": "code",
   "execution_count": 23,
   "id": "a8fa79ec-6ae3-40be-a19b-9042bb6e1f26",
   "metadata": {
    "tags": []
   },
   "outputs": [
    {
     "data": {
      "image/png": "[encoded data removed]",
      "text/plain": [
       "<Figure size 432x288 with 1 Axes>"
      ]
     },
     "metadata": {
      "needs_background": "light"
     },
     "output_type": "display_data"
    }
   ],
   "source": [
    "showViolinPlot(loudness[\"mp3\"])"
   ]
  },
  {
   "cell_type": "code",
   "execution_count": 24,
   "id": "d1cdda97-20b4-440e-94fc-a062711fe22f",
   "metadata": {},
   "outputs": [
    {
     "data": {
      "image/png": "[encoded data removed]",
      "text/plain": [
       "<Figure size 432x288 with 1 Axes>"
      ]
     },
     "metadata": {
      "needs_background": "light"
     },
     "output_type": "display_data"
    }
   ],
   "source": [
    "showHistogram(loudness[\"mp3\"])"
   ]
  }
 ],
 "metadata": {
  "kernelspec": {
   "display_name": "Python 3 (ipykernel)",
   "language": "python",
   "name": "python3"
  },
  "language_info": {
   "codemirror_mode": {
    "name": "ipython",
    "version": 3
   },
   "file_extension": ".py",
   "mimetype": "text/x-python",
   "name": "python",
   "nbconvert_exporter": "python",
   "pygments_lexer": "ipython3",
   "version": "3.9.10"
  }
 },
 "nbformat": 4,
 "nbformat_minor": 5
}
